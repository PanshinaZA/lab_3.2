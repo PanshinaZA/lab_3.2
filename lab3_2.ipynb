{
  "nbformat": 4,
  "nbformat_minor": 0,
  "metadata": {
    "colab": {
      "provenance": [],
      "authorship_tag": "ABX9TyMxVgpdJmw/VrZ8exRk1J9A",
      "include_colab_link": true
    },
    "kernelspec": {
      "name": "python3",
      "display_name": "Python 3"
    },
    "language_info": {
      "name": "python"
    }
  },
  "cells": [
    {
      "cell_type": "markdown",
      "metadata": {
        "id": "view-in-github",
        "colab_type": "text"
      },
      "source": [
        "<a href=\"https://colab.research.google.com/github/PanshinaZA/lab_3.2/blob/main/lab3_2.ipynb\" target=\"_parent\"><img src=\"https://colab.research.google.com/assets/colab-badge.svg\" alt=\"Open In Colab\"/></a>"
      ]
    },
    {
      "cell_type": "markdown",
      "source": [
        "1. Напишите функцию, которая инвертирует словарь, меняя местами ключи и\n",
        "значения."
      ],
      "metadata": {
        "id": "xPf4iCmIFcp3"
      }
    },
    {
      "cell_type": "code",
      "execution_count": 4,
      "metadata": {
        "colab": {
          "base_uri": "https://localhost:8080/"
        },
        "id": "-VBnljHwFZLQ",
        "outputId": "9b15fcbf-fa67-4e30-90e8-a07592461e30"
      },
      "outputs": [
        {
          "output_type": "stream",
          "name": "stdout",
          "text": [
            "{'A123': 'Laptop', 'B456': 'Mouse', 'C789': 'Keyboard'}\n"
          ]
        }
      ],
      "source": [
        "# Выполнила: Паньшина З.А.\n",
        "# Группа: АБП-231\n",
        "\n",
        "def invert_dictionary(d):\n",
        "    \"\"\"Инвертировать словарь 'd', поменяв ключи и значения местами.\n",
        "\n",
        "    Параметры:\n",
        "        - d (dict): исходный словарь.\n",
        "\n",
        "    Результат:\n",
        "        - dict: инвертированный словарь.\"\"\"\n",
        "    invert = {}\n",
        "    for key, value in d.items():\n",
        "        invert[value] = key\n",
        "    return invert\n",
        "\n",
        "product_codes = {'Laptop': 'A123', 'Mouse': 'B456', 'Keyboard': 'C789'}\n",
        "print(invert_dictionary(product_codes))"
      ]
    },
    {
      "cell_type": "markdown",
      "source": [
        "2. Напишите функцию для подсчета частоты встречаемости каждого символа в\n",
        "строке с использованием словаря."
      ],
      "metadata": {
        "id": "jRsLxxAhFkg7"
      }
    },
    {
      "cell_type": "code",
      "source": [
        "# Выполнила: Паньшина З.А.\n",
        "# Группа: АБП-231\n",
        "\n",
        "def count_char_frequency(s):\n",
        "    \"\"\"Подсчитать частоту каждого символа в строке 's'.\n",
        "\n",
        "    Параметры:\n",
        "        - s (str): исходная строка.\n",
        "\n",
        "    Результат:\n",
        "        - dict: словарь с частотами символов.\"\"\"\n",
        "    d = {}\n",
        "    for char in s:\n",
        "      if char in d:\n",
        "        d[char] += 1\n",
        "      else:\n",
        "        d[char] = 1\n",
        "    return d\n",
        "\n",
        "print(count_char_frequency(\"hello world\"))"
      ],
      "metadata": {
        "colab": {
          "base_uri": "https://localhost:8080/"
        },
        "id": "qddBhMw9Fkoz",
        "outputId": "ff70d330-d80e-455c-9c2b-e71777aab8b0"
      },
      "execution_count": 5,
      "outputs": [
        {
          "output_type": "stream",
          "name": "stdout",
          "text": [
            "{'h': 1, 'e': 1, 'l': 3, 'o': 2, ' ': 1, 'w': 1, 'r': 1, 'd': 1}\n"
          ]
        }
      ]
    },
    {
      "cell_type": "markdown",
      "source": [
        "3. Напишите функцию, которая находит общие элементы в двух списках,\n",
        "используя множества."
      ],
      "metadata": {
        "id": "Vln72sW0Fkvy"
      }
    },
    {
      "cell_type": "code",
      "source": [
        "# Выполнила: Паньшина З.А.\n",
        "# Группа: АБП-231\n",
        "\n",
        "def find_common_elements(list1, list2):\n",
        "    \"\"\"Найти общие элементы в 'list1' и 'list2'.\n",
        "\n",
        "    Параметры:\n",
        "        - list1 (list): первый список.\n",
        "        - list2 (list): второй список.\n",
        "\n",
        "    Результат:\n",
        "        - list: список общих элементов.\"\"\"\n",
        "    set1 = set(list1)\n",
        "    set2 = set(list2)\n",
        "    common_set = set1 & set2\n",
        "    return list(common_set)\n",
        "\n",
        "clients1 = [\"Иванов\", \"Петров\", \"Сидоров\", \"Алексеев\"]\n",
        "clients2 = [\"Сидоров\", \"Кузнецов\", \"Иванов\", \"Попов\"]\n",
        "print(find_common_elements(clients1, clients2))"
      ],
      "metadata": {
        "colab": {
          "base_uri": "https://localhost:8080/"
        },
        "id": "oekVsADEFk3U",
        "outputId": "6d810ec2-7f19-4af1-e8b7-9c868a2066c3"
      },
      "execution_count": 7,
      "outputs": [
        {
          "output_type": "stream",
          "name": "stdout",
          "text": [
            "['Сидоров', 'Иванов']\n"
          ]
        }
      ]
    },
    {
      "cell_type": "markdown",
      "source": [
        "4. Напишите функцию, которая объединяет два словаря. Если ключ существует в\n",
        "обоих, значение из второго словаря должно заменить значение из первого."
      ],
      "metadata": {
        "id": "l7RGLWmAFk93"
      }
    },
    {
      "cell_type": "code",
      "source": [
        "# Выполнила: Паньшина З.А.\n",
        "# Группа: АБП-231\n",
        "\n",
        "def merge_dictionaries(dict1, dict2):\n",
        "    \"\"\"Объединить два словаря 'dict1' и 'dict2'.\n",
        "\n",
        "    Параметры:\n",
        "        - dict1 (dict): первый словарь.\n",
        "        - dict2 (dict): второй словарь.\n",
        "\n",
        "    Результат:\n",
        "        - dict: объединенный словарь.\"\"\"\n",
        "    merged = dict1.copy()\n",
        "    merged.update(dict2)\n",
        "    return merged\n",
        "\n",
        "prices1 = {'apple': 1.5, 'banana': 0.75}\n",
        "prices2 = {'banana': 0.85, 'orange': 1.25}\n",
        "print(merge_dictionaries(prices1, prices2))"
      ],
      "metadata": {
        "colab": {
          "base_uri": "https://localhost:8080/"
        },
        "id": "ADcZq-YQFlFo",
        "outputId": "da70c246-e063-4cc7-bad6-96bcd56f323b"
      },
      "execution_count": 8,
      "outputs": [
        {
          "output_type": "stream",
          "name": "stdout",
          "text": [
            "{'apple': 1.5, 'banana': 0.85, 'orange': 1.25}\n"
          ]
        }
      ]
    },
    {
      "cell_type": "markdown",
      "source": [
        "5. Напишите функцию, которая находит элементы, присутствующие в первом\n",
        "списке, но отсутствующие во втором, используя множества.\n"
      ],
      "metadata": {
        "id": "b6puTEI0FlM1"
      }
    },
    {
      "cell_type": "code",
      "source": [
        "# Выполнила: Паньшина З.А.\n",
        "# Группа: АБП-231\n",
        "\n",
        "def find_difference(list1, list2):\n",
        "    \"\"\"Найти элементы, которые есть в 'list1', но нет в 'list2'.\n",
        "\n",
        "    Параметры:\n",
        "        - list1 (list): первый список.\n",
        "        - list2 (list): второй список.\n",
        "\n",
        "    Результат:\n",
        "        - list: список уникальных для 'list1' элементов.\"\"\"\n",
        "    set1 = set(list1)\n",
        "    set2 = set(list2)\n",
        "    d_set = set1 - set2\n",
        "    return list(d_set)\n",
        "\n",
        "skills_required = [\"python\", \"sql\", \"git\", \"data_analysis\"]\n",
        "skills_candidate = [\"python\", \"git\", \"excel\"]\n",
        "print(find_difference(skills_required, skills_candidate))"
      ],
      "metadata": {
        "colab": {
          "base_uri": "https://localhost:8080/"
        },
        "id": "pHZPaQU1FlUn",
        "outputId": "73f38d9d-688e-4cf8-e5c6-9ebf76c7025c"
      },
      "execution_count": 14,
      "outputs": [
        {
          "output_type": "stream",
          "name": "stdout",
          "text": [
            "['sql', 'data_analysis']\n"
          ]
        }
      ]
    },
    {
      "cell_type": "markdown",
      "source": [
        "6. Напишите функцию, которая принимает словарь с продуктами и их ценами, и\n",
        "возвращает список продуктов, цена которых выше заданной.\n"
      ],
      "metadata": {
        "id": "kBfitzjhFlcA"
      }
    },
    {
      "cell_type": "code",
      "source": [
        "# Выполнила: Паньшина З.А.\n",
        "# Группа: АБП-231\n",
        "\n",
        "def filter_by_price(products, price_limit):\n",
        "    \"\"\"Отфильтровать продукты по цене 'price_limit'.\n",
        "\n",
        "    Параметры:\n",
        "        - products (dict): словарь {продукт: цена}.\n",
        "        - price_limit (float): пороговая цена.\n",
        "\n",
        "    Результат:\n",
        "        - list: список продуктов, цена которых выше 'price_limit'.\"\"\"\n",
        "    result = []\n",
        "    for product, price in products.items():\n",
        "        if price > price_limit:\n",
        "            result.append(product)\n",
        "    return result\n",
        "\n",
        "product_prices = {'Laptop': 1200, 'Mouse': 25, 'Keyboard': 75, 'Monitor': 300}\n",
        "print(filter_by_price(product_prices, 100))"
      ],
      "metadata": {
        "colab": {
          "base_uri": "https://localhost:8080/"
        },
        "id": "MndWVK_6Flj_",
        "outputId": "cc9a732a-708f-4387-9573-9e83b9c9d72b"
      },
      "execution_count": 15,
      "outputs": [
        {
          "output_type": "stream",
          "name": "stdout",
          "text": [
            "['Laptop', 'Monitor']\n"
          ]
        }
      ]
    },
    {
      "cell_type": "markdown",
      "source": [
        "7. Напишите функцию, которая группирует список сотрудников по их отделу"
      ],
      "metadata": {
        "id": "ZLb6wFtJFlq2"
      }
    },
    {
      "cell_type": "code",
      "source": [
        "# Выполнила: Паньшина З.А.\n",
        "# Группа: АБП-231\n",
        "\n",
        "def group_by_department(employees):\n",
        "    \"\"\"Сгруппировать сотрудников 'employees' по отделам.\n",
        "\n",
        "    Параметры:\n",
        "        - employees (list): список кортежей (имя, отдел).\n",
        "\n",
        "    Результат:\n",
        "        - dict: словарь {отдел: [список имен]}.\"\"\"\n",
        "    dict = {}\n",
        "\n",
        "    for name, department in employees:\n",
        "        if department not in dict:\n",
        "            dict[department] = []\n",
        "        dict[department].append(name)\n",
        "    return dict\n",
        "\n",
        "employee_list = [(\"Иванов\", \"IT\"), (\"Петров\", \"Sales\"), (\"Сидорова\", \"IT\"), (\"Кузнецов\", \"Marketing\"), (\"Алексеева\", \"Sales\")]\n",
        "print(group_by_department(employee_list))"
      ],
      "metadata": {
        "colab": {
          "base_uri": "https://localhost:8080/"
        },
        "id": "aI9PWfnVFlx9",
        "outputId": "f7a75db1-ea3b-4ac0-d0a2-99e3412630ab"
      },
      "execution_count": 31,
      "outputs": [
        {
          "output_type": "stream",
          "name": "stdout",
          "text": [
            "{'IT': ['Иванов', 'Сидорова'], 'Sales': ['Петров', 'Алексеева'], 'Marketing': ['Кузнецов']}\n"
          ]
        }
      ]
    },
    {
      "cell_type": "markdown",
      "source": [
        "8. Напишите функцию для подсчета количества уникальных слов в тексте (без\n",
        "учета регистра)."
      ],
      "metadata": {
        "id": "_SdELHhkFl4n"
      }
    },
    {
      "cell_type": "code",
      "source": [
        "# Выполнила: Паньшина З.А.\n",
        "# Группа: АБП-231\n",
        "\n",
        "def count_unique_words(text):\n",
        "    \"\"\"Подсчитать количество уникальных слов в 'text'.\n",
        "\n",
        "    Параметры:\n",
        "        - text (str): исходный текст.\n",
        "\n",
        "    Результат:\n",
        "        - int: количество уникальных слов.\"\"\"\n",
        "    text_lower = text.lower()\n",
        "    for punct in '.,\"!?;:()[]{}':\n",
        "        text_lower = text_lower.replace(punct, '')\n",
        "    words = text_lower.split()\n",
        "    return len(set(words))\n",
        "\n",
        "text = \"Это пример текста для примера подсчета уникальных слов. Текста для примера.\"\n",
        "print(count_unique_words(text))"
      ],
      "metadata": {
        "colab": {
          "base_uri": "https://localhost:8080/"
        },
        "id": "JT8fJX30FmAC",
        "outputId": "3667ce87-cb5c-41d9-f622-8ad373020b20"
      },
      "execution_count": 23,
      "outputs": [
        {
          "output_type": "stream",
          "name": "stdout",
          "text": [
            "8\n"
          ]
        }
      ]
    },
    {
      "cell_type": "markdown",
      "source": [
        "9. Напишите функцию, которая находит товар с самой высокой ценой в словаре.\n"
      ],
      "metadata": {
        "id": "Q_Zcj0TTFmGu"
      }
    },
    {
      "cell_type": "code",
      "source": [
        "# Выполнила: Паньшина З.А.\n",
        "# Группа: АБП-231\n",
        "\n",
        "def find_most_expensive(products):\n",
        "    \"\"\"Найти самый дорогой продукт в словаре 'products'.\n",
        "\n",
        "    Параметры:\n",
        "        - products (dict): словарь {продукт: цена}.\n",
        "\n",
        "    Результат:\n",
        "        - str: название самого дорогого продукта.\"\"\"\n",
        "    most_expensive_product = max(products, key=products.get)\n",
        "    return most_expensive_product\n",
        "\n",
        "product_prices = {'Laptop': 1200, 'Mouse': 25, 'Keyboard': 75, 'Monitor': 300}\n",
        "print(find_most_expensive(product_prices))"
      ],
      "metadata": {
        "colab": {
          "base_uri": "https://localhost:8080/"
        },
        "id": "k7sIEb9cFmNa",
        "outputId": "3cf018db-f69e-4592-ab9a-42d0da4c64b2"
      },
      "execution_count": 24,
      "outputs": [
        {
          "output_type": "stream",
          "name": "stdout",
          "text": [
            "Laptop\n"
          ]
        }
      ]
    },
    {
      "cell_type": "markdown",
      "source": [
        "10. Напишите функцию, которая находит элементы, уникальные для каждого из\n",
        "двух списков (симметрическая разность)."
      ],
      "metadata": {
        "id": "-psgvs-FFmUI"
      }
    },
    {
      "cell_type": "code",
      "source": [
        "# Выполнила: Паньшина З.А.\n",
        "# Группа: АБП-231\n",
        "\n",
        "def find_symmetric_difference(list1, list2):\n",
        "    \"\"\"Найти элементы, которые есть только в одном из списков.\n",
        "\n",
        "    Параметры:\n",
        "        - list1 (list): первый список.\n",
        "        - list2 (list): второй список.\n",
        "\n",
        "    Результат:\n",
        "        - list: список уникальных для каждого списка элементов.\"\"\"\n",
        "    set1 = set(list1)\n",
        "    set2 = set(list2)\n",
        "    d = set1 ^ set2\n",
        "    return list(d)\n",
        "\n",
        "\n",
        "store1_products = [\"apple\", \"banana\", \"orange\", \"grape\"]\n",
        "store2_products = [\"banana\", \"kiwi\", \"apple\", \"mango\"]\n",
        "print(find_symmetric_difference(store1_products, store2_products))"
      ],
      "metadata": {
        "colab": {
          "base_uri": "https://localhost:8080/"
        },
        "id": "NaoHJ2nxFma6",
        "outputId": "130811e9-fd71-4389-a389-bcd7f4834f3c"
      },
      "execution_count": 25,
      "outputs": [
        {
          "output_type": "stream",
          "name": "stdout",
          "text": [
            "['kiwi', 'orange', 'mango', 'grape']\n"
          ]
        }
      ]
    },
    {
      "cell_type": "markdown",
      "source": [
        "11. Дан словарь с данными о пользователе. Напишите функцию, которая извлекает\n",
        "значение по вложенному ключу.\n"
      ],
      "metadata": {
        "id": "7vlOJRgXGKnr"
      }
    },
    {
      "cell_type": "code",
      "source": [
        "# Выполнила: Паньшина З.А.\n",
        "# Группа: АБП-231\n",
        "\n",
        "def get_nested_value(data_dict, key_path):\n",
        "    \"\"\"Извлечь значение по списку ключей 'key_path' из словаря 'data_dict'.\n",
        "\n",
        "    Параметры:\n",
        "        - data_dict (dict): вложенный словарь.\n",
        "        - key_path (list): список ключей.\n",
        "\n",
        "    Результат:\n",
        "        - any: искомое значение или None, если путь не существует.\"\"\"\n",
        "    current = data_dict\n",
        "\n",
        "    for key in key_path:\n",
        "        if not isinstance(current, dict) or key not in current:\n",
        "            return None\n",
        "        current = current[key]\n",
        "\n",
        "    return current\n",
        "\n",
        "user_profile = {\n",
        "    'user_id': 101,\n",
        "    'personal_info': {\n",
        "        'name': 'Анна',\n",
        "        'address': {\n",
        "            'city': 'Москва',\n",
        "            'street': 'Ленина'\n",
        "        }\n",
        "    }\n",
        "}\n",
        "print(get_nested_value(user_profile, ['personal_info', 'address', 'city']))"
      ],
      "metadata": {
        "colab": {
          "base_uri": "https://localhost:8080/"
        },
        "id": "B-P5rxFXGKxL",
        "outputId": "52f44f13-3474-4e81-b750-f45dc16cad2a"
      },
      "execution_count": 26,
      "outputs": [
        {
          "output_type": "stream",
          "name": "stdout",
          "text": [
            "Москва\n"
          ]
        }
      ]
    },
    {
      "cell_type": "markdown",
      "source": [
        "12. Напишите функцию, которая обновляет инвентарь (словарь {товар:\n",
        "количество}). Функция принимает текущий инвентарь и список новых поступлений.\n"
      ],
      "metadata": {
        "id": "Tlwpxv55GK57"
      }
    },
    {
      "cell_type": "code",
      "source": [
        "# Выполнила: Паньшина З.А.\n",
        "# Группа: АБП-231\n",
        "\n",
        "def update_inventory(inventory, new_items):\n",
        "    \"\"\"Обновить инвентарь 'inventory' списком новых товаров 'new_items'.\n",
        "\n",
        "    Параметры:\n",
        "        - inventory (dict): словарь {товар: количество}.\n",
        "        - new_items (list): список поступивших товаров.\n",
        "\n",
        "    Результат:\n",
        "        - dict: обновленный словарь инвентаря.\"\"\"\n",
        "    updated = inventory.copy()\n",
        "    for item in new_items:\n",
        "        if item in updated:\n",
        "            updated[item] += 1\n",
        "        else:\n",
        "            updated[item] = 1\n",
        "\n",
        "    return updated\n",
        "\n",
        "current_inventory = {'apples': 10, 'bananas': 15, 'oranges': 5}\n",
        "new_shipment = ['apples', 'apples', 'oranges', 'grapes', 'bananas']\n",
        "print(update_inventory(current_inventory, new_shipment))"
      ],
      "metadata": {
        "colab": {
          "base_uri": "https://localhost:8080/"
        },
        "id": "gINT-v2VGLBz",
        "outputId": "11852b34-4625-4cb8-c125-fcf642c1e6ac"
      },
      "execution_count": 27,
      "outputs": [
        {
          "output_type": "stream",
          "name": "stdout",
          "text": [
            "{'apples': 12, 'bananas': 16, 'oranges': 6, 'grapes': 1}\n"
          ]
        }
      ]
    },
    {
      "cell_type": "markdown",
      "source": [
        "13. Напишите функцию, которая проверяет, обладает ли пользователь всеми\n",
        "необходимыми правами доступа."
      ],
      "metadata": {
        "id": "o2naBUyeGLJM"
      }
    },
    {
      "cell_type": "code",
      "source": [
        "# Выполнила: Паньшина З.А.\n",
        "# Группа: АБП-231\n",
        "\n",
        "def check_permissions(user_permissions, required_permissions):\n",
        "    \"\"\"Проверить, есть ли у пользователя все необходимые права.\n",
        "\n",
        "    Параметры:\n",
        "        - user_permissions (set): множество прав пользователя.\n",
        "        - required_permissions (set): множество требуемых прав.\n",
        "\n",
        "    Результат:\n",
        "        - bool: True, если все права есть, иначе False.\"\"\"\n",
        "    return required_permissions.issubset(user_permissions)\n",
        "\n",
        "user_perms = {'read', 'write', 'comment'}\n",
        "required_perms = {'read', 'write'}\n",
        "print(check_permissions(user_perms, required_perms))\n",
        "print(check_permissions(user_perms, {'read', 'delete'}))"
      ],
      "metadata": {
        "colab": {
          "base_uri": "https://localhost:8080/"
        },
        "id": "pk4pJVQcGLQ8",
        "outputId": "226acb62-dfc9-432d-d031-9b5165a06166"
      },
      "execution_count": 28,
      "outputs": [
        {
          "output_type": "stream",
          "name": "stdout",
          "text": [
            "True\n",
            "False\n"
          ]
        }
      ]
    },
    {
      "cell_type": "markdown",
      "source": [
        "14. Напишите функцию, которая создает словарь из двух списков: один содержит\n",
        "ключи (например, названия полей), а другой — значения.\n"
      ],
      "metadata": {
        "id": "UiZBEuTUGLYR"
      }
    },
    {
      "cell_type": "code",
      "source": [
        "# Выполнила: Паньшина З.А.\n",
        "# Группа: АБП-231\n",
        "\n",
        "def create_dict_from_lists(keys, values):\n",
        "    \"\"\"Создать словарь из списка ключей 'keys' и списка значений 'values'.\n",
        "\n",
        "    Параметры:\n",
        "        - keys (list): список ключей.\n",
        "        - values (list): список значений.\n",
        "\n",
        "    Результат:\n",
        "        - dict: созданный словарь.\"\"\"\n",
        "    return dict(zip(keys, values))\n",
        "\n",
        "fields = ['name', 'age', 'position']\n",
        "data = ['Иван Петров', 30, 'Аналитик']\n",
        "print(create_dict_from_lists(fields, data))"
      ],
      "metadata": {
        "colab": {
          "base_uri": "https://localhost:8080/"
        },
        "id": "os89GlX3GLfC",
        "outputId": "12f3b390-9e86-42ae-8458-d6bc583d2732"
      },
      "execution_count": 29,
      "outputs": [
        {
          "output_type": "stream",
          "name": "stdout",
          "text": [
            "{'name': 'Иван Петров', 'age': 30, 'position': 'Аналитик'}\n"
          ]
        }
      ]
    },
    {
      "cell_type": "markdown",
      "source": [
        "15. Напишите функцию, которая удаляет из словаря все элементы, значения\n",
        "которых меньше заданного порога."
      ],
      "metadata": {
        "id": "wEawUzl_GLmR"
      }
    },
    {
      "cell_type": "code",
      "source": [
        "# Выполнила: Паньшина З.А.\n",
        "# Группа: АБП-231\n",
        "\n",
        "def remove_below_threshold(data_dict, threshold):\n",
        "    \"\"\"Удалить из 'data_dict' элементы, значения которых ниже 'threshold'.\n",
        "\n",
        "    Параметры:\n",
        "        - data_dict (dict): исходный словарь с числовыми значениями.\n",
        "        - threshold (int): пороговое значение.\n",
        "\n",
        "    Результат:\n",
        "        - dict: отфильтрованный словарь.\"\"\"\n",
        "    filtered = {}\n",
        "    for key, value in data_dict.items():\n",
        "        if value >= threshold:\n",
        "            filtered[key] = value\n",
        "    return filtered\n",
        "\n",
        "stock_quantities = {'product_A': 150, 'product_B': 45, 'product_C': 200, 'product_D': 80}\n",
        "print(remove_below_threshold(stock_quantities, 100))"
      ],
      "metadata": {
        "colab": {
          "base_uri": "https://localhost:8080/"
        },
        "id": "vxJgVIKSGLt4",
        "outputId": "10392b08-4b9d-4dfe-8c92-b30e895e428a"
      },
      "execution_count": 30,
      "outputs": [
        {
          "output_type": "stream",
          "name": "stdout",
          "text": [
            "{'product_A': 150, 'product_C': 200}\n"
          ]
        }
      ]
    }
  ]
}